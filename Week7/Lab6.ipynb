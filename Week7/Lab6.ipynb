{
 "cells": [
  {
   "cell_type": "code",
   "execution_count": 1,
   "metadata": {},
   "outputs": [],
   "source": [
    "import cv2\n",
    "import numpy as np\n",
    "import matplotlib.pyplot as plt\n"
   ]
  },
  {
   "cell_type": "code",
   "execution_count": 2,
   "metadata": {},
   "outputs": [],
   "source": [
    "def get_image_np_array(path):\n",
    "    img = cv2.imread(path, cv2.IMREAD_GRAYSCALE)\n",
    "    print(path, \" is converted to ndArray\")\n",
    "    return img"
   ]
  },
  {
   "cell_type": "code",
   "execution_count": 3,
   "metadata": {},
   "outputs": [],
   "source": [
    "def create_histogram(one_d_array, num_bins):\n",
    "    plt.hist(one_d_array, num_bins, facecolor='blue', alpha=0.5)\n",
    "    plt.show()\n",
    "    print('Histogram of')"
   ]
  },
  {
   "cell_type": "code",
   "execution_count": 4,
   "metadata": {},
   "outputs": [],
   "source": [
    "def df(img):\n",
    "    values = [0] * 256\n",
    "    for i in range(img.shape[0]):\n",
    "        for j in range(img.shape[1]):\n",
    "            values[img[i, j]] += 1\n",
    "    return values"
   ]
  },
  {
   "cell_type": "code",
   "execution_count": 5,
   "metadata": {},
   "outputs": [],
   "source": [
    "def cdf(hist):  # cumulative distribution frequency\n",
    "    cdf = [0] * len(hist)  # len(hist) is 256\n",
    "    cdf[0] = hist[0]\n",
    "    for i in range(1, len(hist)):\n",
    "        cdf[i] = cdf[i - 1] + hist[i]\n",
    "    # Now we normalize the histogram\n",
    "    cdf = [ele * 255 / cdf[-1] for ele in cdf]  # What your function h was doing before\n",
    "    return cdf"
   ]
  },
  {
   "cell_type": "code",
   "execution_count": 6,
   "metadata": {},
   "outputs": [
    {
     "name": "stdout",
     "output_type": "stream",
     "text": [
      "image1.png  is converted to ndArray\n"
     ]
    }
   ],
   "source": [
    "img = get_image_np_array('image1.png')\n",
    "def equalize_image(image):\n",
    "    my_cdf = cdf(df(img))\n",
    "    # use linear interpolation of cdf to find new pixel values. Scipy alternative exists\n",
    "    import numpy as np\n",
    "    image_equalized = np.interp(image, range(0, 256), my_cdf)\n",
    "    return image_equalized"
   ]
  },
  {
   "cell_type": "code",
   "execution_count": 7,
   "metadata": {},
   "outputs": [
    {
     "name": "stdout",
     "output_type": "stream",
     "text": [
      "image1.png  is converted to ndArray\n"
     ]
    },
    {
     "data": {
      "image/png": "[encoded data removed]",
      "text/plain": [
       "<Figure size 432x288 with 1 Axes>"
      ]
     },
     "metadata": {
      "needs_background": "light"
     },
     "output_type": "display_data"
    },
    {
     "name": "stdout",
     "output_type": "stream",
     "text": [
      "Histogram of\n"
     ]
    },
    {
     "data": {
      "image/png": "[encoded data removed]",
      "text/plain": [
       "<Figure size 432x288 with 1 Axes>"
      ]
     },
     "metadata": {
      "needs_background": "light"
     },
     "output_type": "display_data"
    },
    {
     "name": "stdout",
     "output_type": "stream",
     "text": [
      "Histogram of\n"
     ]
    }
   ],
   "source": [
    "img = get_image_np_array('image1.png')\n",
    "create_histogram(img, 100)\n",
    "eq = equalize_image(img)\n",
    "create_histogram(eq, 100)\n",
    "cv2.imshow('equalized', eq)\n",
    "%matplotlib inline\n",
    "plt"
   ]
  },
  {
   "cell_type": "code",
   "execution_count": null,
   "metadata": {},
   "outputs": [],
   "source": [
    " img2 = get_image_np_array('image1.png')\n",
    "\n",
    "# Read the image\n",
    "img1 = get_image_np_array('image2.jpg')\n",
    "create_histogram(img1, 100)\n",
    "# Create zeros array to store the stretched image\n",
    "minmax_img = np.zeros((img1.shape[0], img1.shape[1]), dtype='uint8')\n"
   ]
  },
  {
   "cell_type": "code",
   "execution_count": null,
   "metadata": {},
   "outputs": [],
   "source": [
    "# Loop over the image and apply Min-Max formulae\n",
    "for i in range(img1.shape[0]):\n",
    "    for j in range(img1.shape[1]):\n",
    "        minmax_img[i, j] = 255 * (img1[i, j] - np.min(img1)) / (np.max(img1) - np.min(img1))\n",
    "\n",
    "# Displat the stretched image\n",
    "create_histogram(minmax_img, 100)\n",
    "cv2.imshow('Minmax', minmax_img)\n",
    "cv2.waitKey(0)"
   ]
  }
 ],
 "metadata": {
  "kernelspec": {
   "display_name": "Python 3",
   "language": "python",
   "name": "python3"
  },
  "language_info": {
   "codemirror_mode": {
    "name": "ipython",
    "version": 3
   },
   "file_extension": ".py",
   "mimetype": "text/x-python",
   "name": "python",
   "nbconvert_exporter": "python",
   "pygments_lexer": "ipython3",
   "version": "3.7.4"
  }
 },
 "nbformat": 4,
 "nbformat_minor": 2
}
